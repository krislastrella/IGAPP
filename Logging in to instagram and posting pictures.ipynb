{
 "cells": [
  {
   "cell_type": "code",
   "execution_count": 1,
   "id": "a2b1fa56",
   "metadata": {},
   "outputs": [],
   "source": [
    "#Location of Webdriver on pc: C:\\Users\\Random User\\ITMGT Instagram App\\chromedriver.exe"
   ]
  },
  {
   "cell_type": "code",
   "execution_count": 4,
   "id": "7d2a5c3f",
   "metadata": {},
   "outputs": [
    {
     "name": "stderr",
     "output_type": "stream",
     "text": [
      "C:\\Users\\Random User\\AppData\\Local\\Temp\\ipykernel_19996\\1070184851.py:8: DeprecationWarning: executable_path has been deprecated, please pass in a Service object\n",
      "  chromebrowser = webdriver.Chrome(r\"C:\\Users\\Random User\\IGAPP\\chromedriver.exe\")\n"
     ]
    }
   ],
   "source": [
    "from selenium import webdriver\n",
    "import time\n",
    "\n",
    "username = \"abc\"\n",
    "password = \"123456\"\n",
    "\n",
    "#to start a new chrome session\n",
    "chromebrowser = webdriver.Chrome(r\"C:\\Users\\Random User\\IGAPP\\chromedriver.exe\")\n",
    "\n",
    "#To full screen window (optional)\n",
    "chromebrowser.maximize_window()\n",
    "\n",
    "#Go to specific url\n",
    "chromebrowser.get(\"https://www.instagram.com/\")\n",
    "\n",
    "#find a specific element (use inspect element)\n",
    "un = chromebrowser.find_element(\"name\", \"username\")\n",
    "#tpye the entered username\n",
    "un.send_keys(username)\n",
    "\n",
    "#pw duplicate for previous 2 working lines\n",
    "pw = chromebrowser.find_element(\"name\", \"password\")\n",
    "#tpye the entered username\n",
    "pw.send_keys(password)\n",
    "\n",
    "time.sleep(3)\n",
    "\n",
    "login = chromebrowser.find_element(\"xpath\", \"/html/body/div[1]/div/div/div/div[1]/div/div/div/div[1]/section/main/article/div[2]/div[1]/div[2]/form/div/div[3]/button/div\")\n",
    "login.click()"
   ]
  },
  {
   "cell_type": "code",
   "execution_count": 13,
   "id": "4b6e5cba",
   "metadata": {},
   "outputs": [
    {
     "name": "stderr",
     "output_type": "stream",
     "text": [
      "2022-11-15 02:20:24,315 - INFO - Instabot version: 0.117.0 Started\n",
      "2022-11-15 02:20:24,315 - INFO - Instabot version: 0.117.0 Started\n",
      "2022-11-15 02:20:24,315 - INFO - Instabot version: 0.117.0 Started\n",
      "2022-11-15 02:20:24,315 - INFO - Instabot version: 0.117.0 Started\n",
      "2022-11-15 02:20:24,315 - INFO - Instabot version: 0.117.0 Started\n",
      "2022-11-15 02:20:24,320 - INFO - Not yet logged in starting: PRE-LOGIN FLOW!\n",
      "2022-11-15 02:20:24,320 - INFO - Not yet logged in starting: PRE-LOGIN FLOW!\n",
      "2022-11-15 02:20:24,320 - INFO - Not yet logged in starting: PRE-LOGIN FLOW!\n",
      "2022-11-15 02:20:24,320 - INFO - Not yet logged in starting: PRE-LOGIN FLOW!\n",
      "2022-11-15 02:20:24,320 - INFO - Not yet logged in starting: PRE-LOGIN FLOW!\n",
      "2022-11-15 02:20:26,082 - ERROR - Request returns 400 error!\n",
      "2022-11-15 02:20:26,082 - ERROR - Request returns 400 error!\n",
      "2022-11-15 02:20:26,082 - ERROR - Request returns 400 error!\n",
      "2022-11-15 02:20:26,082 - ERROR - Request returns 400 error!\n",
      "2022-11-15 02:20:26,082 - ERROR - Request returns 400 error!\n",
      "2022-11-15 02:20:26,086 - INFO - Instagram's error message: Invalid Parameters\n",
      "2022-11-15 02:20:26,086 - INFO - Instagram's error message: Invalid Parameters\n",
      "2022-11-15 02:20:26,086 - INFO - Instagram's error message: Invalid Parameters\n",
      "2022-11-15 02:20:26,086 - INFO - Instagram's error message: Invalid Parameters\n",
      "2022-11-15 02:20:26,086 - INFO - Instagram's error message: Invalid Parameters\n",
      "2022-11-15 02:20:26,090 - INFO - Error type: missing_parameters\n",
      "2022-11-15 02:20:26,090 - INFO - Error type: missing_parameters\n",
      "2022-11-15 02:20:26,090 - INFO - Error type: missing_parameters\n",
      "2022-11-15 02:20:26,090 - INFO - Error type: missing_parameters\n",
      "2022-11-15 02:20:26,090 - INFO - Error type: missing_parameters\n",
      "2022-11-15 02:20:26,092 - ERROR - Failed to login go to instagram and change your password\n",
      "2022-11-15 02:20:26,092 - ERROR - Failed to login go to instagram and change your password\n",
      "2022-11-15 02:20:26,092 - ERROR - Failed to login go to instagram and change your password\n",
      "2022-11-15 02:20:26,092 - ERROR - Failed to login go to instagram and change your password\n",
      "2022-11-15 02:20:26,092 - ERROR - Failed to login go to instagram and change your password\n",
      "2022-11-15 02:20:26,095 - INFO - Username or password is incorrect.\n",
      "2022-11-15 02:20:26,095 - INFO - Username or password is incorrect.\n",
      "2022-11-15 02:20:26,095 - INFO - Username or password is incorrect.\n",
      "2022-11-15 02:20:26,095 - INFO - Username or password is incorrect.\n",
      "2022-11-15 02:20:26,095 - INFO - Username or password is incorrect.\n"
     ]
    },
    {
     "ename": "SystemExit",
     "evalue": "",
     "output_type": "error",
     "traceback": [
      "An exception has occurred, use %tb to see the full traceback.\n",
      "\u001b[1;31mSystemExit\u001b[0m\n"
     ]
    }
   ],
   "source": [
    "#using instabot multiple posts\n",
    "from instabot import Bot\n",
    "import os\n",
    "\n",
    "os.system(\"rm -rfconfig\")\n",
    "bot = Bot()\n",
    "\n",
    "bot.login(username=\"\", password=\"\")\n",
    "\n",
    "directory=\"img/\"\n",
    "\n",
    "#uploads every picture in directory\n",
    "for image in dos.listdir(directory):\n",
    "    bot.upload_photo(directory + image, caption =\"\")\n"
   ]
  },
  {
   "cell_type": "code",
   "execution_count": null,
   "id": "3dfb9ecb",
   "metadata": {},
   "outputs": [],
   "source": [
    "#using instabot\n",
    "from instabot import Bot\n",
    "\n",
    "bot = Bot()\n",
    "\n",
    "bot.login(username=\"\", password=\"\")\n",
    "\n",
    "#put image ins ame folder and type after /\n",
    "image =\"(foldername)/filename\"\n",
    "\n",
    "#upload picture\n",
    "bot.upload_photo(image, caption =\"\")\n"
   ]
  }
 ],
 "metadata": {
  "kernelspec": {
   "display_name": "Python 3 (ipykernel)",
   "language": "python",
   "name": "python3"
  },
  "language_info": {
   "codemirror_mode": {
    "name": "ipython",
    "version": 3
   },
   "file_extension": ".py",
   "mimetype": "text/x-python",
   "name": "python",
   "nbconvert_exporter": "python",
   "pygments_lexer": "ipython3",
   "version": "3.9.12"
  }
 },
 "nbformat": 4,
 "nbformat_minor": 5
}
