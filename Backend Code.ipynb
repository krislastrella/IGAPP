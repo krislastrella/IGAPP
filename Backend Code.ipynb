{
 "cells": [
  {
   "cell_type": "code",
   "execution_count": null,
   "id": "48ace72c",
   "metadata": {},
   "outputs": [
    {
     "name": "stderr",
     "output_type": "stream",
     "text": [
      "2022-12-12 09:09:35,815 - INFO - Instabot version: 0.117.0 Started\n",
      "2022-12-12 09:09:35,818 - INFO - Not yet logged in starting: PRE-LOGIN FLOW!\n",
      "2022-12-12 09:09:36,106 - ERROR - Request returns 429 error!\n",
      "2022-12-12 09:09:36,107 - WARNING - That means 'too many requests'. I'll go to sleep for 5 minutes.\n"
     ]
    }
   ],
   "source": [
    "from instabot import Bot\n",
    "import os\n",
    "import time\n",
    "import smtplib\n",
    "import ssl\n",
    "from email.message import EmailMessage\n",
    "\n",
    "if os.path.exists(r\"C:\\Users\\Random User\\IGAPP\\config\\perfectly.plant_uuid_and_cookie.json\"):\n",
    "    os.remove (r\"C:\\Users\\Random User\\IGAPP\\config\\perfectly.plant_uuid_and_cookie.json\")\n",
    "    \n",
    "bot = Bot()\n",
    "\n",
    "bot.login(username=\"perfectly.plant\", password=\"LAS50venture\")\n",
    "captions = [\"dog\",\"cat\",\"bird\"]\n",
    "directory= \"images/\"\n",
    "\n",
    "#uploads every picture in directory\n",
    "for image in os.listdir(directory):\n",
    "    bot.upload_photo(directory + image, caption = captions[int(image[0])])\n",
    "    #time.sleep(120)\n",
    "\n",
    "source = 'perfectly.planted04@gmail.com'\n",
    "password = 'taideccsmrhekyhl'\n",
    "recipient = 'krisreylastrella@gmail.com'\n",
    "\n",
    "subject = 'Test notification'\n",
    "body = \"\"\"\n",
    "Your post has been uploaded.\n",
    "\"\"\"\n",
    "\n",
    "email = EmailMessage()\n",
    "email['From'] = source\n",
    "email['To'] = recipient\n",
    "email['Subject'] = subject\n",
    "email.set_content(body)\n",
    "\n",
    "context = ssl.create_default_context()\n",
    "\n",
    "with smtplib.SMTP_SSL('smtp.gmail.com', 465, context=context) as smtp:\n",
    "    smtp.login(source, password)\n",
    "    smtp.sendmail(source, recipient, em.as_string())"
   ]
  },
  {
   "cell_type": "code",
   "execution_count": null,
   "id": "34e1ee32",
   "metadata": {},
   "outputs": [
    {
     "name": "stderr",
     "output_type": "stream",
     "text": [
      "2022-12-12 07:35:45,474 - INFO - Instabot version: 0.117.0 Started\n",
      "2022-12-12 07:35:45,477 - INFO - Not yet logged in starting: PRE-LOGIN FLOW!\n"
     ]
    }
   ],
   "source": [
    "#using instabot multiple posts\n",
    "from instabot import Bot\n",
    "import os\n",
    "import time\n",
    "\n",
    "if os.path.exists(r\"C:\\Users\\Random User\\IGAPP\\config\\perfectly.plant_uuid_and_cookie.json\"):\n",
    "    os.remove (r\"C:\\Users\\Random User\\IGAPP\\config\\perfectly.plant_uuid_and_cookie.json\")\n",
    "    \n",
    "bot = Bot()\n",
    "\n",
    "bot.login(username=\"perfectly.plant\", password=\"LAS50venture\")\n",
    "captions = [\"dog\",\"cat\",\"bird\"]\n",
    "directory= \"images/\"\n",
    "\n",
    "#uploads every picture in directory\n",
    "for image in os.listdir(directory):\n",
    "    bot.upload_photo(directory + image, caption = captions[int(image[0])])\n",
    "    time.sleep(120)\n"
   ]
  },
  {
   "cell_type": "code",
   "execution_count": null,
   "id": "c4b50867",
   "metadata": {},
   "outputs": [],
   "source": [
    "#using instabot\n",
    "from instabot import Bot\n",
    "import os\n",
    "\n",
    "if os.path.exists(r\"C:\\Users\\Random User\\IGAPP\\config\\perfectly.plant_uuid_and_cookie.json\"):\n",
    "    os.remove (r\"C:\\Users\\Random User\\IGAPP\\config\\perfectly.plant_uuid_and_cookie.json\")\n",
    "bot = Bot()\n",
    "\n",
    "bot.login(username=\"perfectly.plant\", password=\"LAS50venture\")\n",
    "\n",
    "#put image ins ame folder and type after /\n",
    "image =\"images/dog.jpg\"\n",
    "\n",
    "#upload picture\n",
    "bot.upload_photo(image, caption =\"dogs\")\n"
   ]
  },
  {
   "cell_type": "code",
   "execution_count": null,
   "id": "a679f512",
   "metadata": {},
   "outputs": [],
   "source": [
    "import smtplib\n",
    "import ssl\n",
    "from email.message import EmailMessage\n",
    "\n",
    "source = 'perfectly.planted04@gmail.com'\n",
    "password = 'taideccsmrhekyhl'\n",
    "recipient = 'krisreylastrella@gmail.com'\n",
    "\n",
    "subject = 'Test notification'\n",
    "body = \"\"\"\n",
    "Your post has been uploaded.\n",
    "\"\"\"\n",
    "\n",
    "email = EmailMessage()\n",
    "email['From'] = source\n",
    "email['To'] = recipient\n",
    "email['Subject'] = subject\n",
    "email.set_content(body)\n",
    "\n",
    "context = ssl.create_default_context()\n",
    "\n",
    "with smtplib.SMTP_SSL('smtp.gmail.com', 465, context=context) as smtp:\n",
    "    smtp.login(source, password)\n",
    "    smtp.sendmail(source, recipient, em.as_string())"
   ]
  }
 ],
 "metadata": {
  "kernelspec": {
   "display_name": "Python 3 (ipykernel)",
   "language": "python",
   "name": "python3"
  },
  "language_info": {
   "codemirror_mode": {
    "name": "ipython",
    "version": 3
   },
   "file_extension": ".py",
   "mimetype": "text/x-python",
   "name": "python",
   "nbconvert_exporter": "python",
   "pygments_lexer": "ipython3",
   "version": "3.9.12"
  }
 },
 "nbformat": 4,
 "nbformat_minor": 5
}
